{
 "cells": [
  {
   "cell_type": "code",
   "execution_count": null,
   "metadata": {},
   "outputs": [
    {
     "name": "stdout",
     "output_type": "stream",
     "text": [
      "————————————————————————\n",
      "Addorder函数库演示1.00\n",
      "————————————————————————\n",
      "\n",
      "函数库包含函数:\n",
      "Addorder.trans()  作用：把str类型的变量指令转换为int返回值 \n",
      "Addorder.transinput()  作用：把键盘输入的指令转换为int返回值 \n",
      "\n",
      "指令：transinput 运行Addorder.transinput()函数并输出返回值 \n",
      "\n"
     ]
    }
   ],
   "source": [
    "import Addorder\n",
    "\n",
    "print('————————————————————————')\n",
    "print('Addorder函数库演示1.00')\n",
    "print('————————————————————————')\n",
    "print('')\n",
    "print('函数库包含函数:')\n",
    "print('Addorder.trans()  作用：把str类型的变量指令转换为int返回值 ')\n",
    "print('Addorder.transinput()  作用：把键盘输入的指令转换为int返回值 ')\n",
    "print('')\n",
    "print('指令：transinput 执行Addorder.transinput()函数并输出返回值 ')\n",
    "print('')\n",
    "\n",
    "n=0\n",
    "while n==0:\n",
    "    \n",
    "    a=Addorder.transinput()\n",
    "    if a == 34576631987198:\n",
    "        print('请输入打算转换为int值的指令:')\n",
    "        b=Addorder.transinput()\n",
    "        print(b)\n",
    "        \n",
    "    print('')"
   ]
  },
  {
   "cell_type": "code",
   "execution_count": null,
   "metadata": {},
   "outputs": [],
   "source": []
  }
 ],
 "metadata": {
  "kernelspec": {
   "display_name": "Python 3",
   "language": "python",
   "name": "python3"
  },
  "language_info": {
   "codemirror_mode": {
    "name": "ipython",
    "version": 3
   },
   "file_extension": ".py",
   "mimetype": "text/x-python",
   "name": "python",
   "nbconvert_exporter": "python",
   "pygments_lexer": "ipython3",
   "version": "3.8.3"
  }
 },
 "nbformat": 4,
 "nbformat_minor": 4
}
